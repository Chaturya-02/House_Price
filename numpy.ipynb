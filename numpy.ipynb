{
 "cells": [
  {
   "cell_type": "code",
   "execution_count": 1,
   "id": "6b5d2630-7fce-4cf9-90c4-9e0436763b5a",
   "metadata": {},
   "outputs": [
    {
     "name": "stdout",
     "output_type": "stream",
     "text": [
      "Requirement already satisfied: pandas in c:\\users\\hp\\desktop\\project\\kits\\lib\\site-packages (2.1.4)\n",
      "Requirement already satisfied: numpy<2,>=1.22.4 in c:\\users\\hp\\desktop\\project\\kits\\lib\\site-packages (from pandas) (1.26.2)\n",
      "Requirement already satisfied: python-dateutil>=2.8.2 in c:\\users\\hp\\desktop\\project\\kits\\lib\\site-packages (from pandas) (2.8.2)\n",
      "Requirement already satisfied: pytz>=2020.1 in c:\\users\\hp\\desktop\\project\\kits\\lib\\site-packages (from pandas) (2023.3.post1)\n",
      "Requirement already satisfied: tzdata>=2022.1 in c:\\users\\hp\\desktop\\project\\kits\\lib\\site-packages (from pandas) (2023.3)\n",
      "Requirement already satisfied: six>=1.5 in c:\\users\\hp\\desktop\\project\\kits\\lib\\site-packages (from python-dateutil>=2.8.2->pandas) (1.16.0)\n",
      "Note: you may need to restart the kernel to use updated packages.\n"
     ]
    }
   ],
   "source": [
    "pip install pandas"
   ]
  },
  {
   "cell_type": "code",
   "execution_count": 2,
   "id": "091b7c8d-c2ac-4816-b5c8-e58b05dfb65c",
   "metadata": {},
   "outputs": [
    {
     "name": "stdout",
     "output_type": "stream",
     "text": [
      "Requirement already satisfied: numpy in c:\\users\\hp\\desktop\\project\\kits\\lib\\site-packages (1.26.2)\n",
      "Note: you may need to restart the kernel to use updated packages.\n"
     ]
    }
   ],
   "source": [
    "pip install numpy"
   ]
  },
  {
   "cell_type": "code",
   "execution_count": 3,
   "id": "d2de2e57-f723-4875-9c1d-c674a3ebb7ec",
   "metadata": {},
   "outputs": [],
   "source": [
    "import numpy as np"
   ]
  },
  {
   "cell_type": "code",
   "execution_count": 4,
   "id": "d95ca59a-913a-47c0-8bb4-7f901f4ae8fd",
   "metadata": {},
   "outputs": [
    {
     "data": {
      "text/plain": [
       "[[1, 5, 8], [9, 3, 6]]"
      ]
     },
     "execution_count": 4,
     "metadata": {},
     "output_type": "execute_result"
    }
   ],
   "source": [
    "a=[[1,5,8],[9,3,6]]\n",
    "a"
   ]
  },
  {
   "cell_type": "code",
   "execution_count": 5,
   "id": "b6b03893-ca47-41b8-ba3c-17a076a7d66a",
   "metadata": {},
   "outputs": [
    {
     "data": {
      "text/plain": [
       "array([[1, 5, 8],\n",
       "       [9, 3, 6]])"
      ]
     },
     "execution_count": 5,
     "metadata": {},
     "output_type": "execute_result"
    }
   ],
   "source": [
    "b=np.array(a)\n",
    "b"
   ]
  },
  {
   "cell_type": "code",
   "execution_count": 6,
   "id": "0fe774db-b5c0-41f0-a28b-ff73e1cd8055",
   "metadata": {},
   "outputs": [
    {
     "data": {
      "text/plain": [
       "numpy.ndarray"
      ]
     },
     "execution_count": 6,
     "metadata": {},
     "output_type": "execute_result"
    }
   ],
   "source": [
    "type(b)"
   ]
  },
  {
   "cell_type": "code",
   "execution_count": 7,
   "id": "757aa29d-72f3-453b-b63c-82039fe52783",
   "metadata": {},
   "outputs": [
    {
     "data": {
      "text/plain": [
       "(2, 3)"
      ]
     },
     "execution_count": 7,
     "metadata": {},
     "output_type": "execute_result"
    }
   ],
   "source": [
    "b.shape"
   ]
  },
  {
   "cell_type": "code",
   "execution_count": 8,
   "id": "677903ae-6cd2-4efd-bc49-ad51c889e5c4",
   "metadata": {},
   "outputs": [],
   "source": [
    "L1= list(range(100000))\n",
    "L2= list(range(100000))"
   ]
  },
  {
   "cell_type": "code",
   "execution_count": 9,
   "id": "17f0525e-60b1-43d3-a561-657505f66083",
   "metadata": {},
   "outputs": [],
   "source": [
    "A1=np.arange(100000)\n",
    "A2=np.arange(100000)"
   ]
  },
  {
   "cell_type": "code",
   "execution_count": 10,
   "id": "f0982d1f-5d92-4e87-83d4-28ee63eceb20",
   "metadata": {},
   "outputs": [
    {
     "name": "stdout",
     "output_type": "stream",
     "text": [
      "20.155668258666992\n",
      "time taken is 20.155668258666992 millisecond\n"
     ]
    }
   ],
   "source": [
    "import time\n",
    "start = time.time()\n",
    "L3=list(map(lambda x,y:x+y,L1,L2))\n",
    "end= time.time()\n",
    "print((end-start)*1000) # time differnce\n",
    "print(f'time taken is {((end-start)*1000)} millisecond')"
   ]
  },
  {
   "cell_type": "code",
   "execution_count": 11,
   "id": "fdd3df34-3b75-4b12-835b-0f7abc449de2",
   "metadata": {},
   "outputs": [
    {
     "name": "stdout",
     "output_type": "stream",
     "text": [
      "1.972198486328125\n",
      "time taken is 1.972198486328125 millisecond\n"
     ]
    }
   ],
   "source": [
    "import time\n",
    "start = time.time()\n",
    "A3=A1+A2\n",
    "end= time.time()\n",
    "print((end-start)*1000) # time differnce\n",
    "print(f'time taken is {((end-start)*1000)} millisecond')"
   ]
  },
  {
   "cell_type": "code",
   "execution_count": 12,
   "id": "6ba1224f-8d71-4144-b24d-68bff066a32c",
   "metadata": {},
   "outputs": [
    {
     "name": "stdout",
     "output_type": "stream",
     "text": [
      "[[1 5 6]\n",
      " [8 9 5]\n",
      " [2 6 6]]\n",
      "(3, 3)\n",
      "9\n"
     ]
    },
    {
     "data": {
      "text/plain": [
       "2"
      ]
     },
     "execution_count": 12,
     "metadata": {},
     "output_type": "execute_result"
    }
   ],
   "source": [
    "a=np.array([[1,5,6],\n",
    "           [8,9,5],\n",
    "           [2,6,6]])\n",
    "print(a)\n",
    "print(a.shape)\n",
    "print(a.size)\n",
    "a[1,1]\n",
    "a[2,0]\n"
   ]
  },
  {
   "cell_type": "code",
   "execution_count": 13,
   "id": "f0285d27-7d46-4d8c-b4de-8aad5f19acc9",
   "metadata": {},
   "outputs": [
    {
     "data": {
      "text/plain": [
       "array([[9, 5],\n",
       "       [6, 6]])"
      ]
     },
     "execution_count": 13,
     "metadata": {},
     "output_type": "execute_result"
    }
   ],
   "source": [
    "a[1:,1:]"
   ]
  },
  {
   "cell_type": "code",
   "execution_count": 14,
   "id": "dc4a2b10-ab0b-429c-b6fd-34f4b1a1ca43",
   "metadata": {},
   "outputs": [
    {
     "data": {
      "text/plain": [
       "array([[8, 9],\n",
       "       [2, 6]])"
      ]
     },
     "execution_count": 14,
     "metadata": {},
     "output_type": "execute_result"
    }
   ],
   "source": [
    "a[1:,:2]"
   ]
  },
  {
   "cell_type": "code",
   "execution_count": 15,
   "id": "a666fa0d-31ec-4d1c-bf64-0c83406850cf",
   "metadata": {},
   "outputs": [
    {
     "name": "stdout",
     "output_type": "stream",
     "text": [
      "[[ 2  5  8]\n",
      " [ 5  6 -3]\n",
      " [ 8  9  6]]\n",
      "[[1 5 6]\n",
      " [8 9 5]\n",
      " [2 6 6]]\n"
     ]
    }
   ],
   "source": [
    "b=np.array([[2,5,8],[5,6,-3],[8,9,6]])\n",
    "print(b)\n",
    "print(a)"
   ]
  },
  {
   "cell_type": "code",
   "execution_count": 16,
   "id": "827e2e4a-ff92-44dd-9b97-0f51916fbbbd",
   "metadata": {},
   "outputs": [
    {
     "name": "stdout",
     "output_type": "stream",
     "text": [
      "a+b\n",
      "[[ 3 10 14]\n",
      " [13 15  2]\n",
      " [10 15 12]]\n",
      "or\n",
      "[[ 3 10 14]\n",
      " [13 15  2]\n",
      " [10 15 12]]\n",
      "\n",
      "a*b\n",
      "[[  2  25  48]\n",
      " [ 40  54 -15]\n",
      " [ 16  54  36]]\n"
     ]
    }
   ],
   "source": [
    "print('a+b')\n",
    "print(a+b)\n",
    "print('or') \n",
    "print(np.add(a,b))\n",
    "print()\n",
    "print('a*b')\n",
    "print(a*b)"
   ]
  },
  {
   "cell_type": "code",
   "execution_count": 17,
   "id": "5919ae85-cefd-4a66-b33b-feb7b9c05015",
   "metadata": {},
   "outputs": [
    {
     "data": {
      "text/plain": [
       "array([4.        , 7.33333333, 4.66666667])"
      ]
     },
     "execution_count": 17,
     "metadata": {},
     "output_type": "execute_result"
    }
   ],
   "source": [
    "np.mean(a,axis=0) #axis : 0= column\n",
    "np.mean(a,axis=1) #axis : 1= row"
   ]
  },
  {
   "cell_type": "code",
   "execution_count": 18,
   "id": "6e5874f1-686a-41ea-8f3e-08489abc1765",
   "metadata": {},
   "outputs": [
    {
     "data": {
      "text/plain": [
       "5.777777777777778"
      ]
     },
     "execution_count": 18,
     "metadata": {},
     "output_type": "execute_result"
    }
   ],
   "source": [
    "np.var(a) # variance"
   ]
  },
  {
   "cell_type": "code",
   "execution_count": 26,
   "id": "96b5e569-3b19-41c5-bd52-d3a26b77f1a7",
   "metadata": {},
   "outputs": [
    {
     "data": {
      "text/plain": [
       "array([[ 1,  6, 12],\n",
       "       [ 8, 17, 22],\n",
       "       [ 2,  8, 14]])"
      ]
     },
     "execution_count": 26,
     "metadata": {},
     "output_type": "execute_result"
    }
   ],
   "source": [
    "np.cumsum(a,axis=1)"
   ]
  },
  {
   "cell_type": "code",
   "execution_count": 29,
   "id": "ffcf61e1-32cf-456a-9daa-40bd7dd8ea66",
   "metadata": {},
   "outputs": [
    {
     "data": {
      "text/plain": [
       "4"
      ]
     },
     "execution_count": 29,
     "metadata": {},
     "output_type": "execute_result"
    }
   ],
   "source": [
    "np.argmax(a)"
   ]
  },
  {
   "cell_type": "code",
   "execution_count": null,
   "id": "a5db039c-96f4-496e-a125-b351331b8301",
   "metadata": {},
   "outputs": [],
   "source": []
  }
 ],
 "metadata": {
  "kernelspec": {
   "display_name": "Python 3 (ipykernel)",
   "language": "python",
   "name": "python3"
  },
  "language_info": {
   "codemirror_mode": {
    "name": "ipython",
    "version": 3
   },
   "file_extension": ".py",
   "mimetype": "text/x-python",
   "name": "python",
   "nbconvert_exporter": "python",
   "pygments_lexer": "ipython3",
   "version": "3.10.7"
  }
 },
 "nbformat": 4,
 "nbformat_minor": 5
}
